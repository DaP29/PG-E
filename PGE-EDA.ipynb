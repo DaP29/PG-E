{
 "cells": [
  {
   "cell_type": "code",
   "execution_count": 1,
   "id": "06feacdd",
   "metadata": {},
   "outputs": [],
   "source": [
    "import pandas as pd\n",
    "import os \n",
    "import numpy as np\n",
    "from sklearn.preprocessing import StandardScaler, OneHotEncoder\n"
   ]
  },
  {
   "cell_type": "code",
   "execution_count": null,
   "id": "3e92a646",
   "metadata": {},
   "outputs": [],
   "source": [
    "os.getcwd()"
   ]
  },
  {
   "cell_type": "code",
   "execution_count": 3,
   "id": "951a8f7e",
   "metadata": {},
   "outputs": [],
   "source": [
    "#Combining all the years together \n",
    "# data came from here - https://pge-energydatarequest.com/public_datasets/download?type=electric&file=PGE_2021_Q4_ElectricUsageByZip.zip\n",
    "# Create an empty list to store the dataframes\n",
    "current_dir = os.getcwd()\n",
    "df_list = []\n",
    "\n",
    "# Loop through each CSV file in the directory\n",
    "for filename in os.listdir(current_dir):\n",
    "    if filename.endswith('.csv'):\n",
    "        # Read the CSV file and append it to the list of dataframes\n",
    "        file_path = os.path.join(current_dir, filename)\n",
    "        df = pd.read_csv(file_path)\n",
    "        df.columns = df.columns.str.lower()\n",
    "        #df['Quarter']=filename[9:11]\n",
    "        df_list.append(df)\n",
    "\n",
    "# Concatenate all dataframes in the list into a single dataframe\n",
    "df_years = pd.concat(df_list, ignore_index=True)"
   ]
  },
  {
   "cell_type": "markdown",
   "id": "5d41cbcc",
   "metadata": {},
   "source": [
    "## Explore Data"
   ]
  },
  {
   "cell_type": "code",
   "execution_count": null,
   "id": "5d0a1485",
   "metadata": {},
   "outputs": [],
   "source": [
    "df_years"
   ]
  },
  {
   "cell_type": "code",
   "execution_count": null,
   "id": "74185a08",
   "metadata": {
    "scrolled": true
   },
   "outputs": [],
   "source": [
    "df_years.info()"
   ]
  },
  {
   "cell_type": "code",
   "execution_count": 4,
   "id": "dbffda12",
   "metadata": {},
   "outputs": [],
   "source": [
    "df_years['totalcustomers']=df_years['totalcustomers'].str.replace(',','')\n",
    "df_years['totalkwh']=df_years['totalkwh'].str.replace(',','')\n",
    "df_years['averagekwh']=df_years['averagekwh'].str.replace(',','')"
   ]
  },
  {
   "cell_type": "code",
   "execution_count": 5,
   "id": "5d53dabb",
   "metadata": {},
   "outputs": [],
   "source": [
    "df_years['totalcustomers']=df_years['totalcustomers'].astype(int)\n",
    "df_years['totalkwh']=df_years['totalkwh'].astype(float)\n",
    "df_years['averagekwh']=df_years['averagekwh'].astype(float)"
   ]
  },
  {
   "cell_type": "code",
   "execution_count": null,
   "id": "f0f3f427",
   "metadata": {},
   "outputs": [],
   "source": [
    "df_years.describe()"
   ]
  },
  {
   "cell_type": "code",
   "execution_count": null,
   "id": "01ff47fc",
   "metadata": {},
   "outputs": [],
   "source": [
    "df_years['combined'].value_counts(normalize=True)*100 # 65% of our data belongs to combines zip codes"
   ]
  },
  {
   "cell_type": "code",
   "execution_count": null,
   "id": "6c779d4c",
   "metadata": {},
   "outputs": [],
   "source": [
    "df_years[((df_years['combined']=='Y') & (df_years['totalcustomers']!=0) & (df_years['totalkwh']!=0))]\n",
    "# ok so for combined zip codes we also have data on customers"
   ]
  },
  {
   "cell_type": "code",
   "execution_count": null,
   "id": "5f7e5683",
   "metadata": {},
   "outputs": [],
   "source": [
    "len(df_years[((df_years['combined']=='Y') & (df_years['totalcustomers']==0) & (df_years['totalkwh']==0))])\n",
    "# this may indicate zip codes where PGE does not have any customers or maybe 0s means somethings else\n"
   ]
  },
  {
   "cell_type": "code",
   "execution_count": null,
   "id": "9db4c948",
   "metadata": {},
   "outputs": [],
   "source": [
    "len(df_years[((df_years['combined']=='Y') & (df_years['totalcustomers']==0) & (df_years['totalkwh']==0)& (df_years['averagekwh'].isnull()))])\n",
    "# so wo all these obs averagekwh is missing too\n",
    "# lets drop them "
   ]
  },
  {
   "cell_type": "code",
   "execution_count": null,
   "id": "ce2b3d37",
   "metadata": {},
   "outputs": [],
   "source": [
    "len(df_years[((df_years['combined']=='Y') & (df_years['totalcustomers']==0) & (df_years['totalkwh']==0)& (df_years['averagekwh'].isnull()))])\n"
   ]
  },
  {
   "cell_type": "code",
   "execution_count": 6,
   "id": "0e5533d3",
   "metadata": {},
   "outputs": [],
   "source": [
    "mask=(df_years['combined']=='Y') & (df_years['totalcustomers']==0) & (df_years['totalkwh']==0) & (df_years['averagekwh'].isnull())\n"
   ]
  },
  {
   "cell_type": "code",
   "execution_count": 7,
   "id": "8a0c91c2",
   "metadata": {},
   "outputs": [],
   "source": [
    "#df_years=df_years[~((df_years['combined']=='Y') & (df_years['totalcustomers']==0) & (df_years['totalkwh']==0) & (df_years['averagekwh'].isnull))]\n",
    "#df_years[((df_years['combined']=='Y') & (df_years['totalcustomers']==0) & (df_years['totalkwh']==0))]\n",
    "df_years=df_years[~mask]"
   ]
  },
  {
   "cell_type": "code",
   "execution_count": 8,
   "id": "1ca56901",
   "metadata": {},
   "outputs": [
    {
     "data": {
      "text/html": [
       "<div>\n",
       "<style scoped>\n",
       "    .dataframe tbody tr th:only-of-type {\n",
       "        vertical-align: middle;\n",
       "    }\n",
       "\n",
       "    .dataframe tbody tr th {\n",
       "        vertical-align: top;\n",
       "    }\n",
       "\n",
       "    .dataframe thead th {\n",
       "        text-align: right;\n",
       "    }\n",
       "</style>\n",
       "<table border=\"1\" class=\"dataframe\">\n",
       "  <thead>\n",
       "    <tr style=\"text-align: right;\">\n",
       "      <th></th>\n",
       "      <th>zipcode</th>\n",
       "      <th>month</th>\n",
       "      <th>year</th>\n",
       "      <th>customerclass</th>\n",
       "      <th>combined</th>\n",
       "      <th>totalcustomers</th>\n",
       "      <th>totalkwh</th>\n",
       "      <th>averagekwh</th>\n",
       "    </tr>\n",
       "  </thead>\n",
       "  <tbody>\n",
       "    <tr>\n",
       "      <th>10</th>\n",
       "      <td>93206</td>\n",
       "      <td>2</td>\n",
       "      <td>2013</td>\n",
       "      <td>Elec- Agricultural</td>\n",
       "      <td>Y</td>\n",
       "      <td>138</td>\n",
       "      <td>7249627.0</td>\n",
       "      <td>52534.0</td>\n",
       "    </tr>\n",
       "    <tr>\n",
       "      <th>11</th>\n",
       "      <td>93206</td>\n",
       "      <td>3</td>\n",
       "      <td>2013</td>\n",
       "      <td>Elec- Agricultural</td>\n",
       "      <td>Y</td>\n",
       "      <td>371</td>\n",
       "      <td>20354832.0</td>\n",
       "      <td>54865.0</td>\n",
       "    </tr>\n",
       "    <tr>\n",
       "      <th>16</th>\n",
       "      <td>93212</td>\n",
       "      <td>2</td>\n",
       "      <td>2013</td>\n",
       "      <td>Elec- Agricultural</td>\n",
       "      <td>Y</td>\n",
       "      <td>213</td>\n",
       "      <td>9971956.0</td>\n",
       "      <td>46817.0</td>\n",
       "    </tr>\n",
       "    <tr>\n",
       "      <th>28</th>\n",
       "      <td>93230</td>\n",
       "      <td>2</td>\n",
       "      <td>2013</td>\n",
       "      <td>Elec- Agricultural</td>\n",
       "      <td>Y</td>\n",
       "      <td>244</td>\n",
       "      <td>3942702.0</td>\n",
       "      <td>16159.0</td>\n",
       "    </tr>\n",
       "    <tr>\n",
       "      <th>46</th>\n",
       "      <td>93245</td>\n",
       "      <td>2</td>\n",
       "      <td>2013</td>\n",
       "      <td>Elec- Agricultural</td>\n",
       "      <td>N</td>\n",
       "      <td>334</td>\n",
       "      <td>1008626.0</td>\n",
       "      <td>3020.0</td>\n",
       "    </tr>\n",
       "    <tr>\n",
       "      <th>...</th>\n",
       "      <td>...</td>\n",
       "      <td>...</td>\n",
       "      <td>...</td>\n",
       "      <td>...</td>\n",
       "      <td>...</td>\n",
       "      <td>...</td>\n",
       "      <td>...</td>\n",
       "      <td>...</td>\n",
       "    </tr>\n",
       "    <tr>\n",
       "      <th>304593</th>\n",
       "      <td>96125</td>\n",
       "      <td>11</td>\n",
       "      <td>2021</td>\n",
       "      <td>Elec- Residential</td>\n",
       "      <td>N</td>\n",
       "      <td>441</td>\n",
       "      <td>99843.0</td>\n",
       "      <td>226.0</td>\n",
       "    </tr>\n",
       "    <tr>\n",
       "      <th>304594</th>\n",
       "      <td>96125</td>\n",
       "      <td>12</td>\n",
       "      <td>2021</td>\n",
       "      <td>Elec- Residential</td>\n",
       "      <td>N</td>\n",
       "      <td>441</td>\n",
       "      <td>103069.0</td>\n",
       "      <td>234.0</td>\n",
       "    </tr>\n",
       "    <tr>\n",
       "      <th>304595</th>\n",
       "      <td>96137</td>\n",
       "      <td>10</td>\n",
       "      <td>2021</td>\n",
       "      <td>Elec- Residential</td>\n",
       "      <td>N</td>\n",
       "      <td>2791</td>\n",
       "      <td>972348.0</td>\n",
       "      <td>348.0</td>\n",
       "    </tr>\n",
       "    <tr>\n",
       "      <th>304596</th>\n",
       "      <td>96137</td>\n",
       "      <td>11</td>\n",
       "      <td>2021</td>\n",
       "      <td>Elec- Residential</td>\n",
       "      <td>N</td>\n",
       "      <td>2790</td>\n",
       "      <td>973018.0</td>\n",
       "      <td>349.0</td>\n",
       "    </tr>\n",
       "    <tr>\n",
       "      <th>304597</th>\n",
       "      <td>96137</td>\n",
       "      <td>12</td>\n",
       "      <td>2021</td>\n",
       "      <td>Elec- Residential</td>\n",
       "      <td>N</td>\n",
       "      <td>2788</td>\n",
       "      <td>1099806.0</td>\n",
       "      <td>394.0</td>\n",
       "    </tr>\n",
       "  </tbody>\n",
       "</table>\n",
       "<p>139063 rows × 8 columns</p>\n",
       "</div>"
      ],
      "text/plain": [
       "        zipcode  month  year       customerclass combined  totalcustomers  \\\n",
       "10        93206      2  2013  Elec- Agricultural        Y             138   \n",
       "11        93206      3  2013  Elec- Agricultural        Y             371   \n",
       "16        93212      2  2013  Elec- Agricultural        Y             213   \n",
       "28        93230      2  2013  Elec- Agricultural        Y             244   \n",
       "46        93245      2  2013  Elec- Agricultural        N             334   \n",
       "...         ...    ...   ...                 ...      ...             ...   \n",
       "304593    96125     11  2021   Elec- Residential        N             441   \n",
       "304594    96125     12  2021   Elec- Residential        N             441   \n",
       "304595    96137     10  2021   Elec- Residential        N            2791   \n",
       "304596    96137     11  2021   Elec- Residential        N            2790   \n",
       "304597    96137     12  2021   Elec- Residential        N            2788   \n",
       "\n",
       "          totalkwh  averagekwh  \n",
       "10       7249627.0     52534.0  \n",
       "11      20354832.0     54865.0  \n",
       "16       9971956.0     46817.0  \n",
       "28       3942702.0     16159.0  \n",
       "46       1008626.0      3020.0  \n",
       "...            ...         ...  \n",
       "304593     99843.0       226.0  \n",
       "304594    103069.0       234.0  \n",
       "304595    972348.0       348.0  \n",
       "304596    973018.0       349.0  \n",
       "304597   1099806.0       394.0  \n",
       "\n",
       "[139063 rows x 8 columns]"
      ]
     },
     "execution_count": 8,
     "metadata": {},
     "output_type": "execute_result"
    }
   ],
   "source": [
    "df_years"
   ]
  },
  {
   "cell_type": "code",
   "execution_count": 9,
   "id": "2770c915",
   "metadata": {},
   "outputs": [
    {
     "data": {
      "text/plain": [
       "True"
      ]
     },
     "execution_count": 9,
     "metadata": {},
     "output_type": "execute_result"
    }
   ],
   "source": [
    "#determine duplicates\n",
    "df_years.duplicated().any()"
   ]
  },
  {
   "cell_type": "code",
   "execution_count": null,
   "id": "dc377c7c",
   "metadata": {},
   "outputs": [],
   "source": [
    "df_years.duplicated().sum()"
   ]
  },
  {
   "cell_type": "code",
   "execution_count": null,
   "id": "314bca9a",
   "metadata": {},
   "outputs": [],
   "source": [
    "df_years[df_years.duplicated()]"
   ]
  },
  {
   "cell_type": "code",
   "execution_count": 10,
   "id": "94614a5b",
   "metadata": {},
   "outputs": [],
   "source": [
    "df_years=df_years.drop_duplicates()"
   ]
  },
  {
   "cell_type": "code",
   "execution_count": null,
   "id": "78604e0e",
   "metadata": {},
   "outputs": [],
   "source": [
    "df_years"
   ]
  },
  {
   "cell_type": "code",
   "execution_count": 11,
   "id": "7567edfd",
   "metadata": {},
   "outputs": [
    {
     "data": {
      "text/plain": [
       "Elec- Residential     90185\n",
       "Elec- Commercial      38352\n",
       "Elec- Agricultural     8004\n",
       "Elec- Industrial        805\n",
       "Name: customerclass, dtype: int64"
      ]
     },
     "execution_count": 11,
     "metadata": {},
     "output_type": "execute_result"
    }
   ],
   "source": [
    "df_years['customerclass'].value_counts() # 4 classess"
   ]
  },
  {
   "cell_type": "code",
   "execution_count": 12,
   "id": "54853373",
   "metadata": {},
   "outputs": [],
   "source": [
    "ohe = pd.get_dummies(df_years['customerclass'], drop_first=True) # we create n-1 dummies"
   ]
  },
  {
   "cell_type": "code",
   "execution_count": 13,
   "id": "a57edb26",
   "metadata": {},
   "outputs": [],
   "source": [
    "# Drops categorical variables from the df\n",
    "#df_years = df_years.drop('customerclass', axis = 1) \n",
    "\n",
    "# Adds the newly created dummy variables instead\n",
    "df_years = pd.concat([df_years, ohe], axis = 1) "
   ]
  },
  {
   "cell_type": "code",
   "execution_count": 14,
   "id": "da4d2b8a",
   "metadata": {},
   "outputs": [
    {
     "data": {
      "text/html": [
       "<div>\n",
       "<style scoped>\n",
       "    .dataframe tbody tr th:only-of-type {\n",
       "        vertical-align: middle;\n",
       "    }\n",
       "\n",
       "    .dataframe tbody tr th {\n",
       "        vertical-align: top;\n",
       "    }\n",
       "\n",
       "    .dataframe thead th {\n",
       "        text-align: right;\n",
       "    }\n",
       "</style>\n",
       "<table border=\"1\" class=\"dataframe\">\n",
       "  <thead>\n",
       "    <tr style=\"text-align: right;\">\n",
       "      <th></th>\n",
       "      <th>zipcode</th>\n",
       "      <th>month</th>\n",
       "      <th>year</th>\n",
       "      <th>customerclass</th>\n",
       "      <th>combined</th>\n",
       "      <th>totalcustomers</th>\n",
       "      <th>totalkwh</th>\n",
       "      <th>averagekwh</th>\n",
       "      <th>Elec- Commercial</th>\n",
       "      <th>Elec- Industrial</th>\n",
       "      <th>Elec- Residential</th>\n",
       "    </tr>\n",
       "  </thead>\n",
       "  <tbody>\n",
       "    <tr>\n",
       "      <th>10</th>\n",
       "      <td>93206</td>\n",
       "      <td>2</td>\n",
       "      <td>2013</td>\n",
       "      <td>Elec- Agricultural</td>\n",
       "      <td>Y</td>\n",
       "      <td>138</td>\n",
       "      <td>7249627.0</td>\n",
       "      <td>52534.0</td>\n",
       "      <td>0</td>\n",
       "      <td>0</td>\n",
       "      <td>0</td>\n",
       "    </tr>\n",
       "    <tr>\n",
       "      <th>11</th>\n",
       "      <td>93206</td>\n",
       "      <td>3</td>\n",
       "      <td>2013</td>\n",
       "      <td>Elec- Agricultural</td>\n",
       "      <td>Y</td>\n",
       "      <td>371</td>\n",
       "      <td>20354832.0</td>\n",
       "      <td>54865.0</td>\n",
       "      <td>0</td>\n",
       "      <td>0</td>\n",
       "      <td>0</td>\n",
       "    </tr>\n",
       "    <tr>\n",
       "      <th>16</th>\n",
       "      <td>93212</td>\n",
       "      <td>2</td>\n",
       "      <td>2013</td>\n",
       "      <td>Elec- Agricultural</td>\n",
       "      <td>Y</td>\n",
       "      <td>213</td>\n",
       "      <td>9971956.0</td>\n",
       "      <td>46817.0</td>\n",
       "      <td>0</td>\n",
       "      <td>0</td>\n",
       "      <td>0</td>\n",
       "    </tr>\n",
       "    <tr>\n",
       "      <th>28</th>\n",
       "      <td>93230</td>\n",
       "      <td>2</td>\n",
       "      <td>2013</td>\n",
       "      <td>Elec- Agricultural</td>\n",
       "      <td>Y</td>\n",
       "      <td>244</td>\n",
       "      <td>3942702.0</td>\n",
       "      <td>16159.0</td>\n",
       "      <td>0</td>\n",
       "      <td>0</td>\n",
       "      <td>0</td>\n",
       "    </tr>\n",
       "    <tr>\n",
       "      <th>46</th>\n",
       "      <td>93245</td>\n",
       "      <td>2</td>\n",
       "      <td>2013</td>\n",
       "      <td>Elec- Agricultural</td>\n",
       "      <td>N</td>\n",
       "      <td>334</td>\n",
       "      <td>1008626.0</td>\n",
       "      <td>3020.0</td>\n",
       "      <td>0</td>\n",
       "      <td>0</td>\n",
       "      <td>0</td>\n",
       "    </tr>\n",
       "    <tr>\n",
       "      <th>...</th>\n",
       "      <td>...</td>\n",
       "      <td>...</td>\n",
       "      <td>...</td>\n",
       "      <td>...</td>\n",
       "      <td>...</td>\n",
       "      <td>...</td>\n",
       "      <td>...</td>\n",
       "      <td>...</td>\n",
       "      <td>...</td>\n",
       "      <td>...</td>\n",
       "      <td>...</td>\n",
       "    </tr>\n",
       "    <tr>\n",
       "      <th>304593</th>\n",
       "      <td>96125</td>\n",
       "      <td>11</td>\n",
       "      <td>2021</td>\n",
       "      <td>Elec- Residential</td>\n",
       "      <td>N</td>\n",
       "      <td>441</td>\n",
       "      <td>99843.0</td>\n",
       "      <td>226.0</td>\n",
       "      <td>0</td>\n",
       "      <td>0</td>\n",
       "      <td>1</td>\n",
       "    </tr>\n",
       "    <tr>\n",
       "      <th>304594</th>\n",
       "      <td>96125</td>\n",
       "      <td>12</td>\n",
       "      <td>2021</td>\n",
       "      <td>Elec- Residential</td>\n",
       "      <td>N</td>\n",
       "      <td>441</td>\n",
       "      <td>103069.0</td>\n",
       "      <td>234.0</td>\n",
       "      <td>0</td>\n",
       "      <td>0</td>\n",
       "      <td>1</td>\n",
       "    </tr>\n",
       "    <tr>\n",
       "      <th>304595</th>\n",
       "      <td>96137</td>\n",
       "      <td>10</td>\n",
       "      <td>2021</td>\n",
       "      <td>Elec- Residential</td>\n",
       "      <td>N</td>\n",
       "      <td>2791</td>\n",
       "      <td>972348.0</td>\n",
       "      <td>348.0</td>\n",
       "      <td>0</td>\n",
       "      <td>0</td>\n",
       "      <td>1</td>\n",
       "    </tr>\n",
       "    <tr>\n",
       "      <th>304596</th>\n",
       "      <td>96137</td>\n",
       "      <td>11</td>\n",
       "      <td>2021</td>\n",
       "      <td>Elec- Residential</td>\n",
       "      <td>N</td>\n",
       "      <td>2790</td>\n",
       "      <td>973018.0</td>\n",
       "      <td>349.0</td>\n",
       "      <td>0</td>\n",
       "      <td>0</td>\n",
       "      <td>1</td>\n",
       "    </tr>\n",
       "    <tr>\n",
       "      <th>304597</th>\n",
       "      <td>96137</td>\n",
       "      <td>12</td>\n",
       "      <td>2021</td>\n",
       "      <td>Elec- Residential</td>\n",
       "      <td>N</td>\n",
       "      <td>2788</td>\n",
       "      <td>1099806.0</td>\n",
       "      <td>394.0</td>\n",
       "      <td>0</td>\n",
       "      <td>0</td>\n",
       "      <td>1</td>\n",
       "    </tr>\n",
       "  </tbody>\n",
       "</table>\n",
       "<p>137346 rows × 11 columns</p>\n",
       "</div>"
      ],
      "text/plain": [
       "        zipcode  month  year       customerclass combined  totalcustomers  \\\n",
       "10        93206      2  2013  Elec- Agricultural        Y             138   \n",
       "11        93206      3  2013  Elec- Agricultural        Y             371   \n",
       "16        93212      2  2013  Elec- Agricultural        Y             213   \n",
       "28        93230      2  2013  Elec- Agricultural        Y             244   \n",
       "46        93245      2  2013  Elec- Agricultural        N             334   \n",
       "...         ...    ...   ...                 ...      ...             ...   \n",
       "304593    96125     11  2021   Elec- Residential        N             441   \n",
       "304594    96125     12  2021   Elec- Residential        N             441   \n",
       "304595    96137     10  2021   Elec- Residential        N            2791   \n",
       "304596    96137     11  2021   Elec- Residential        N            2790   \n",
       "304597    96137     12  2021   Elec- Residential        N            2788   \n",
       "\n",
       "          totalkwh  averagekwh  Elec- Commercial  Elec- Industrial  \\\n",
       "10       7249627.0     52534.0                 0                 0   \n",
       "11      20354832.0     54865.0                 0                 0   \n",
       "16       9971956.0     46817.0                 0                 0   \n",
       "28       3942702.0     16159.0                 0                 0   \n",
       "46       1008626.0      3020.0                 0                 0   \n",
       "...            ...         ...               ...               ...   \n",
       "304593     99843.0       226.0                 0                 0   \n",
       "304594    103069.0       234.0                 0                 0   \n",
       "304595    972348.0       348.0                 0                 0   \n",
       "304596    973018.0       349.0                 0                 0   \n",
       "304597   1099806.0       394.0                 0                 0   \n",
       "\n",
       "        Elec- Residential  \n",
       "10                      0  \n",
       "11                      0  \n",
       "16                      0  \n",
       "28                      0  \n",
       "46                      0  \n",
       "...                   ...  \n",
       "304593                  1  \n",
       "304594                  1  \n",
       "304595                  1  \n",
       "304596                  1  \n",
       "304597                  1  \n",
       "\n",
       "[137346 rows x 11 columns]"
      ]
     },
     "execution_count": 14,
     "metadata": {},
     "output_type": "execute_result"
    }
   ],
   "source": [
    "df_years"
   ]
  },
  {
   "cell_type": "code",
   "execution_count": 15,
   "id": "877f2441",
   "metadata": {},
   "outputs": [
    {
     "data": {
      "text/plain": [
       "zipcode              False\n",
       "month                False\n",
       "year                 False\n",
       "customerclass        False\n",
       "combined             False\n",
       "totalcustomers       False\n",
       "totalkwh             False\n",
       "averagekwh           False\n",
       "Elec- Commercial     False\n",
       "Elec- Industrial     False\n",
       "Elec- Residential    False\n",
       "dtype: bool"
      ]
     },
     "execution_count": 15,
     "metadata": {},
     "output_type": "execute_result"
    }
   ],
   "source": [
    "#determine if there is missing values\n",
    "df_years.isna().any()"
   ]
  },
  {
   "cell_type": "code",
   "execution_count": null,
   "id": "ff82d925",
   "metadata": {},
   "outputs": [],
   "source": [
    "df_years.isna().mean()*100 # percentage of missing values for average killo wat per hour"
   ]
  },
  {
   "cell_type": "code",
   "execution_count": 16,
   "id": "10f545d7",
   "metadata": {},
   "outputs": [],
   "source": [
    "df_years['customers_type_year']=df_years.groupby(['year','customerclass'])['totalcustomers'].transform('mean') # average number of customers per year"
   ]
  },
  {
   "cell_type": "code",
   "execution_count": 17,
   "id": "f506e1c9",
   "metadata": {},
   "outputs": [],
   "source": [
    "df_years['customers_type_year_zip']=df_years.groupby(['year','customerclass','zipcode'])['totalcustomers'].transform('mean') # average number of customers per year for each zip code"
   ]
  },
  {
   "cell_type": "code",
   "execution_count": 30,
   "id": "8ac9b08f",
   "metadata": {},
   "outputs": [
    {
     "data": {
      "text/plain": [
       "1     2\n",
       "2     2\n",
       "3     2\n",
       "4     2\n",
       "5     2\n",
       "6     2\n",
       "7     2\n",
       "8     2\n",
       "9     2\n",
       "10    2\n",
       "11    2\n",
       "12    2\n",
       "Name: month, dtype: int64"
      ]
     },
     "execution_count": 30,
     "metadata": {},
     "output_type": "execute_result"
    }
   ],
   "source": [
    "df_years[(df_years['zipcode']==94538) & (df_years['year']==2015)]['month'].value_counts()\n",
    "#df_years Q3 looks suspicious"
   ]
  },
  {
   "cell_type": "code",
   "execution_count": null,
   "id": "3e03f5d8",
   "metadata": {},
   "outputs": [],
   "source": [
    "df_years[(df_years['zipcode']==94538) & (df_years['year']==2014)& (df_years['month']>=10)]\n"
   ]
  },
  {
   "cell_type": "code",
   "execution_count": null,
   "id": "48d46cd8",
   "metadata": {},
   "outputs": [],
   "source": [
    "df_years[(df_years['zipcode']==94538) & (df_years['year']==2014) & (df_years['Quarter']=='Q3')]\n"
   ]
  },
  {
   "cell_type": "code",
   "execution_count": 19,
   "id": "4f9258e4",
   "metadata": {},
   "outputs": [
    {
     "data": {
      "text/plain": [
       "827"
      ]
     },
     "execution_count": 19,
     "metadata": {},
     "output_type": "execute_result"
    }
   ],
   "source": [
    "df_years['zipcode'].nunique() # we have lots of zip codes here\n"
   ]
  },
  {
   "cell_type": "code",
   "execution_count": null,
   "id": "c6ece79c",
   "metadata": {},
   "outputs": [],
   "source": [
    "df_years['totalcustomers_year']="
   ]
  },
  {
   "cell_type": "code",
   "execution_count": null,
   "id": "6e0eb466",
   "metadata": {},
   "outputs": [],
   "source": [
    "df_years['totalcustomers'].hist(bins=50)"
   ]
  },
  {
   "cell_type": "code",
   "execution_count": 24,
   "id": "4a3b9c9e",
   "metadata": {},
   "outputs": [],
   "source": [
    "df_res=df_years[df_years['customerclass']=='Elec- Residential']"
   ]
  },
  {
   "cell_type": "code",
   "execution_count": 27,
   "id": "f9f35e46",
   "metadata": {},
   "outputs": [],
   "source": [
    "import matplotlib.pyplot as plt"
   ]
  },
  {
   "cell_type": "code",
   "execution_count": 32,
   "id": "270d3216",
   "metadata": {},
   "outputs": [
    {
     "data": {
      "text/plain": [
       "array(['Elec- Agricultural', 'Elec- Commercial', 'Elec- Industrial',\n",
       "       'Elec- Residential'], dtype=object)"
      ]
     },
     "execution_count": 32,
     "metadata": {},
     "output_type": "execute_result"
    }
   ],
   "source": [
    "df_years['customerclass'].unique()"
   ]
  },
  {
   "cell_type": "code",
   "execution_count": 35,
   "id": "34e93fe6",
   "metadata": {},
   "outputs": [
    {
     "data": {
      "text/plain": [
       "<matplotlib.legend.Legend at 0x1245b07e040>"
      ]
     },
     "execution_count": 35,
     "metadata": {},
     "output_type": "execute_result"
    },
    {
     "data": {
      "image/png": "[encoded data removed]",
      "text/plain": [
       "<Figure size 640x480 with 1 Axes>"
      ]
     },
     "metadata": {},
     "output_type": "display_data"
    }
   ],
   "source": [
    "plt.plot(df_res['year'], df_res['customers_type_year'], label='Residential Customers',color='green')\n",
    "\n",
    "\n",
    "plt.plot(df_years[df_years['customerclass']=='Elec- Commercial']['year'], df_years[df_years['customerclass']=='Elec- Commercial']['customers_type_year'],\n",
    "        label='Commercial Customers',color='red')\n",
    "\n",
    "plt.xlabel('Year')\n",
    "plt.ylabel('Average Annual Number Customers')\n",
    "plt.legend()\n",
    "#df_res.groupby('year')['customers_type_year'].plot(kind='hist', alpha=0.5, legend=True)\n"
   ]
  }
 ],
 "metadata": {
  "kernelspec": {
   "display_name": "Python 3 (ipykernel)",
   "language": "python",
   "name": "python3"
  },
  "language_info": {
   "codemirror_mode": {
    "name": "ipython",
    "version": 3
   },
   "file_extension": ".py",
   "mimetype": "text/x-python",
   "name": "python",
   "nbconvert_exporter": "python",
   "pygments_lexer": "ipython3",
   "version": "3.9.15"
  }
 },
 "nbformat": 4,
 "nbformat_minor": 5
}
